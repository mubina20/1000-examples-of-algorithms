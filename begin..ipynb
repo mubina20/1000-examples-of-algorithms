{
 "cells": [
  {
   "cell_type": "code",
   "execution_count": 1,
   "metadata": {},
   "outputs": [
    {
     "name": "stdout",
     "output_type": "stream",
     "text": [
      "40\n"
     ]
    }
   ],
   "source": [
    "# 1. 주어진 것은 한 변의 길이가 a인 정사각형이다. 이 정사각형의 둘레 P를 구하려면 P = 4 * a이다.\n",
    "\n",
    "a = 10\n",
    "p = 4 * a\n",
    "\n",
    "print(p)"
   ]
  },
  {
   "cell_type": "code",
   "execution_count": 4,
   "metadata": {},
   "outputs": [
    {
     "name": "stdout",
     "output_type": "stream",
     "text": [
      "400\n"
     ]
    }
   ],
   "source": [
    "# 2. 주어진 것은 한 변의 길이가 𝑎인 정사각형이다. 이 정사각형의 넓이 𝑆는 𝑆=𝑎2 이다.\n",
    "\n",
    "a = 20\n",
    "s = a ** 2\n",
    "\n",
    "print(s)"
   ]
  },
  {
   "cell_type": "code",
   "execution_count": 7,
   "metadata": {},
   "outputs": [
    {
     "name": "stdout",
     "output_type": "stream",
     "text": [
      "200 60\n"
     ]
    }
   ],
   "source": [
    "# 3. 주어진 것은 가로 길이 a와 세로 길이 b인 직사각형이다. 이 직사각형의 넓이 S는 S = a * b이고, 둘레 P는 P = 2 * (a + b)이다.\n",
    "\n",
    "a = 10\n",
    "b = 20\n",
    "\n",
    "s = a * b\n",
    "p = 2 * (a + b)\n",
    "\n",
    "print(s, p)"
   ]
  },
  {
   "cell_type": "code",
   "execution_count": 8,
   "metadata": {},
   "outputs": [
    {
     "name": "stdout",
     "output_type": "stream",
     "text": [
      "94.2\n"
     ]
    }
   ],
   "source": [
    "# 4. 주어진 것은 지름이 d인 원이다. 이 원의 둘레 L은 L = 3.14 * d이다.\n",
    "\n",
    "d = 30\n",
    "L = 3.14 * d\n",
    "\n",
    "print(L)"
   ]
  },
  {
   "cell_type": "code",
   "execution_count": 10,
   "metadata": {},
   "outputs": [
    {
     "name": "stdout",
     "output_type": "stream",
     "text": [
      "1000 600\n"
     ]
    }
   ],
   "source": [
    "# 5. 주어진 것은 한 변의 길이가 a인 정육면체입니다. 이 정육면체의 부피 V는 V = a^3이고, 표면적 S는 S = 6 * a^2이다\n",
    "\n",
    "a = 10\n",
    "\n",
    "V = a ** 3\n",
    "S = 6 * a ** 2\n",
    "\n",
    "print(V, S)"
   ]
  },
  {
   "cell_type": "code",
   "execution_count": 11,
   "metadata": {},
   "outputs": [
    {
     "name": "stdout",
     "output_type": "stream",
     "text": [
      "1500 800\n"
     ]
    }
   ],
   "source": [
    "# 6. 주어진 것은 가로 길이 a, 세로 길이 b, 높이 c인 직육면체입니다. 이 직육면체의 부피 V는 V = a * b * c이고, \n",
    "# 표면적 S는 S = 2 * (a * b + b * c + a * c)이다.\n",
    "\n",
    "a = 10\n",
    "b = 10\n",
    "c = 15\n",
    "\n",
    "V = a * b * c # 부피\n",
    "S = 2 * (a * b + b * c + a * c) # 표면적\n",
    "\n",
    "print(V, S)"
   ]
  },
  {
   "cell_type": "code",
   "execution_count": 14,
   "metadata": {},
   "outputs": [
    {
     "name": "stdout",
     "output_type": "stream",
     "text": [
      "31.4 78.5\n"
     ]
    }
   ],
   "source": [
    "# 7. 주어진 것은 반지름이 R인 원입니다. 이 원의 둘레 L은 L = 2 * 3.14 * R이고, 넓이 S는 S = 3.14 * R^2이다.\n",
    "\n",
    "R = 5\n",
    "\n",
    "L = 2 * 3.14 * R # 원의 둘레(원주)\n",
    "S = 3.14 * R ** 2 # 원이 넓이\n",
    "\n",
    "print(round(L, 2), round(S, 2))  # 소수점 둘째 자리까지 반올림하여 출력"
   ]
  },
  {
   "cell_type": "code",
   "execution_count": 15,
   "metadata": {},
   "outputs": [
    {
     "name": "stdout",
     "output_type": "stream",
     "text": [
      "11.0\n"
     ]
    }
   ],
   "source": [
    "# 8. 주어진 두 수 a와 b의 산술 평균은 (a + b) / 2이다.\n",
    "\n",
    "a = 10\n",
    "b = 12\n",
    "c = (a + b) / 2\n",
    "\n",
    "print(c)"
   ]
  },
  {
   "cell_type": "code",
   "execution_count": 19,
   "metadata": {},
   "outputs": [
    {
     "name": "stdout",
     "output_type": "stream",
     "text": [
      "4.47\n"
     ]
    }
   ],
   "source": [
    "# 9. 주어진 두 개의 비부정적인 수 a와 b이다. 이 두 수의 기하 평균은 두 수의 곱의 제곱근으로 정의되며, 기하 평균은 √(a * b)이다.\n",
    "\n",
    "a = 2\n",
    "b = 10\n",
    "\n",
    "G = (a * b) ** 0.5\n",
    "\n",
    "print(round(G, 2))"
   ]
  },
  {
   "cell_type": "code",
   "execution_count": 21,
   "metadata": {},
   "outputs": [
    {
     "name": "stdout",
     "output_type": "stream",
     "text": [
      "104 96 400 25.0\n"
     ]
    }
   ],
   "source": [
    "# 10. 주어진 것은 두 개의 비영 수이다. 이 두 수의 제곱에 대한 합, 차, 곱, 그리고 몫을 구해야 한다.\n",
    "\n",
    "a = 10\n",
    "b = 2\n",
    "\n",
    "sum = a ** 2 + b ** 2           # 두 수의 제곱의 합\n",
    "difference = a ** 2 - b ** 2    # 두 수의 제곱의 차\n",
    "product = a ** 2 * b ** 2       # 두 수의 제곱의 곱\n",
    "quotient = a ** 2 / b ** 2      # 두 수의 제곱의 몫\n",
    "\n",
    "print(sum, difference, product, quotient)"
   ]
  },
  {
   "cell_type": "code",
   "execution_count": 23,
   "metadata": {},
   "outputs": [
    {
     "name": "stdout",
     "output_type": "stream",
     "text": [
      "12 8 20 5.0\n"
     ]
    }
   ],
   "source": [
    "# 11. 주어진 것은 두 개의 비영(0이 아닌) 수이다. 이 두 수의 절댓값에 대한 합, 차, 곱, 그리고 몫을 구해야 한다.\n",
    "\n",
    "a = 10\n",
    "b = 2\n",
    "\n",
    "abs_a = (a * (a >= 0)) + (-a * (a < 0))  # a의 절댓값\n",
    "abs_b = (b * (b >= 0)) + (-b * (b < 0))  # b의 절댓값\n",
    "\n",
    "sum = abs_a + abs_b              # 절댓값의 합\n",
    "difference = abs_a - abs_b       # 절댓값의 차\n",
    "product = abs_a * abs_b          # 절댓값의 곱\n",
    "quotient = abs_a / abs_b         # 절댓값의 몫\n",
    "\n",
    "print(sum, difference, product, quotient)"
   ]
  },
  {
   "cell_type": "code",
   "execution_count": 26,
   "metadata": {},
   "outputs": [
    {
     "name": "stdout",
     "output_type": "stream",
     "text": [
      "12.0\n"
     ]
    }
   ],
   "source": [
    "# 12. 주어진 것은 직각삼각형의 두 변인 a와 b이다. 이 삼각형의 빗변 c는 √(a² + b²)로 구할 수 있으며, 둘레 P는 P = a + b + c로 계산할 수 있다.\n",
    "\n",
    "a = 3\n",
    "b = 4\n",
    "\n",
    "c = (a ** 2 + b ** 2) ** 0.5    # 빗변\n",
    "P = a + b + c                   # 둘레 P\n",
    "\n",
    "print(P)"
   ]
  },
  {
   "cell_type": "code",
   "execution_count": 55,
   "metadata": {},
   "outputs": [
    {
     "name": "stdout",
     "output_type": "stream",
     "text": [
      "113.04\n"
     ]
    }
   ],
   "source": [
    "# 13. 주어진 것은 공통 중심과 반지름이 R1과 R2인 두 원이다 (단, R1 > R2). \n",
    "# 이 두 원의 넓이 S1과 S2는 다음과 같다: S1 = π · (R1)², S2 = π · (R2)². \n",
    "# 또한, 외부 반지름이 R1이고 내부 반지름이 R2인 고리의 넓이 S3는 S3 = S1 − S2로 구할 수 있다.\n",
    "\n",
    "R1 = 10 # 외부 원의 반지름\n",
    "R2 = 8  # 내부 원의 반지름\n",
    "\n",
    "# 두 원의 넓이 계산\n",
    "S1 = 3.14 * (R1 ** 2)   # 외부 원의 넓이\n",
    "S2 = 3.14 * (R2 ** 2)   # 내부 원의 넓이\n",
    "\n",
    "# 고리의 넓이 계산\n",
    "S3 = S1 - S2    # 고리의 넓이\n",
    "\n",
    "print(round(S3, 2))"
   ]
  },
  {
   "cell_type": "code",
   "execution_count": 29,
   "metadata": {},
   "outputs": [
    {
     "name": "stdout",
     "output_type": "stream",
     "text": [
      "62.8 314.0\n"
     ]
    }
   ],
   "source": [
    "# 14. 주어진 것은 원의 둘레 길이 L이다. 이 원의 반지름 R과 그 원에 의해 제한된 원의 넓이 S를 구해야 한다. 둘레는 L = 2 * π * R이며, 넓이는 S = π * R²이다. 여기서 π의 값은 3.14로 사용한다.\n",
    "\n",
    "R = 10\n",
    "\n",
    "L = 2 * 3.14 * R\n",
    "S = 3.14 * (R ** 2)\n",
    "\n",
    "print(round(L, 2), round(S, 2))"
   ]
  },
  {
   "cell_type": "code",
   "execution_count": 34,
   "metadata": {},
   "outputs": [
    {
     "name": "stdout",
     "output_type": "stream",
     "text": [
      "20 62.8 78.5\n"
     ]
    }
   ],
   "source": [
    "# 15. 주어진 것은 원의 넓이 S이다. 이 원의 지름 D와 원의 둘레 L을 구해야 한다. 둘레는 L = π * D이며, 넓이는 S = (π * D²) / 4이다. 여기서 π의 값은 3.14로 사용한다.\n",
    "\n",
    "R = 10      # 원의 반지름\n",
    "D = R * 2   # 원의 지름\n",
    "\n",
    "L = 3.14 * D    # 원의 둘레\n",
    "S = (3.14 * R ** 2) / 4    # 원이 넓이\n",
    "\n",
    "print(D, round(L, 2), S)"
   ]
  },
  {
   "cell_type": "code",
   "execution_count": 42,
   "metadata": {},
   "outputs": [
    {
     "name": "stdout",
     "output_type": "stream",
     "text": [
      "4\n"
     ]
    }
   ],
   "source": [
    "# 16. 주어진 것은 수직선에서 두 점의 좌표 x1과 x2이다. 이 두 점 사이의 거리는 |x2 - x1|로 구할 수 있다.\n",
    "\n",
    "# 두 점의 좌표\n",
    "x1 = 4\n",
    "x2 = 8\n",
    "\n",
    "# 두 점 사이의 거리 계산\n",
    "distance = x2 - x1\n",
    "\n",
    "if distance < 0:  # 차이가 음수일 경우\n",
    "    distance = -distance  # 절댓값을 취하기 위해 양수로 변환\n",
    "\n",
    "print(distance)  "
   ]
  },
  {
   "cell_type": "code",
   "execution_count": 44,
   "metadata": {},
   "outputs": [
    {
     "name": "stdout",
     "output_type": "stream",
     "text": [
      "5 2\n"
     ]
    }
   ],
   "source": [
    "# 17. 주어진 것은 수직선 세 점 A, B, C이다. 이 점들 사이의 길이를 구해야 한다. AC의 길이는 |C - A|로, BC의 길이는 |C - B|로 계산할 수 있으며, 이들의 합은 |C - A| + |C - B|이다.\n",
    "\n",
    "A = 5\n",
    "B = 8\n",
    "C = 10\n",
    "\n",
    "# 거리 계산\n",
    "distance1 = C - A\n",
    "if distance1 < 0:\n",
    "    distance1 = -distance1  # 절댓값 적용\n",
    "\n",
    "distance2 = C - B\n",
    "if distance2 < 0:\n",
    "    distance2 = -distance2  # 절댓값 적용\n",
    "\n",
    "print(distance1, distance2)"
   ]
  },
  {
   "cell_type": "code",
   "execution_count": 46,
   "metadata": {},
   "outputs": [
    {
     "name": "stdout",
     "output_type": "stream",
     "text": [
      "2 4 8\n"
     ]
    }
   ],
   "source": [
    "# 18. 주어진 것은 수직선 세 점 A, B, C이며, 점 C는 A와 B 사이에 위치해 있다. AC와 BC 구간의 길이의 곱은 |C - A| x |B - C|이다.\n",
    "\n",
    "from math import *\n",
    "\n",
    "A = 4\n",
    "B = 10\n",
    "C = 6\n",
    "\n",
    "# 거리 계산\n",
    "distance1 = C - A\n",
    "if distance1 < 0:\n",
    "    distance1 = -distance1  # 절댓값 적용\n",
    "\n",
    "distance2 = C - B\n",
    "if distance2 < 0:\n",
    "    distance2 = -distance2  # 절댓값 적용\n",
    "    \n",
    "product = distance1 * distance2   # 곱\n",
    "\n",
    "print(distance1, distance2, product)"
   ]
  },
  {
   "cell_type": "code",
   "execution_count": 53,
   "metadata": {},
   "outputs": [
    {
     "name": "stdout",
     "output_type": "stream",
     "text": [
      "12 8\n"
     ]
    }
   ],
   "source": [
    "# 19. 주어진 것은 직사각형의 두 대각선 꼭짓점의 좌표 (x1, y1)과 (x2, y2)이다. 이 직사각형의 변은 좌표축에 평행하다. 직사각형의 둘레는 P = 2 * (|x2 - x1| + |y2 - y1|)이고, 넓이는 S = |x2 - x1| * |y2 - y1|이다.\n",
    "\n",
    "x1 = 10\n",
    "y1 = 10\n",
    "x2 = 12\n",
    "y2 = 14\n",
    "\n",
    "# 절댓값 계산\n",
    "if x2 < x1:\n",
    "    width = x1 - x2\n",
    "else:\n",
    "    width = x2 - x1\n",
    "\n",
    "if y2 < y1:\n",
    "    height = y1 - y2\n",
    "else:\n",
    "    height = y2 - y1\n",
    "\n",
    "P = 2 * (width + height)  # 둘레 계산\n",
    "S = width * height        # 넓이 계산\n",
    "\n",
    "print(P, S)"
   ]
  },
  {
   "cell_type": "code",
   "execution_count": 2,
   "metadata": {},
   "outputs": [
    {
     "name": "stdout",
     "output_type": "stream",
     "text": [
      "2.83\n"
     ]
    }
   ],
   "source": [
    "# 20. 주어진 것은 평면상의 두 점의 좌표 (x1, y1)과 (x2, y2)이다. 이 두 점 사이의 거리는 √((x2 - x1)² + (y2 - y1)²)로 계산할 수 있다.\n",
    "\n",
    "x1 = 10\n",
    "y1 = 10\n",
    "\n",
    "x2 = 12\n",
    "y2 = 12\n",
    "\n",
    "# 두 점 사이의 거리 계산\n",
    "distance = ((x2 - x1) ** 2 + (y2 - y1) ** 2) ** 0.5\n",
    "\n",
    "print(round(distance, 2))"
   ]
  },
  {
   "cell_type": "code",
   "execution_count": 8,
   "metadata": {},
   "outputs": [
    {
     "name": "stdout",
     "output_type": "stream",
     "text": [
      "삼각형의 둘레 :  14.14 삼각형의 넓이 :  0.0\n"
     ]
    }
   ],
   "source": [
    "# 21. 주어진 것은 삼각형의 세 꼭짓점 좌표 (x1, y1), (x2, y2), (x3, y3)이다. 이 삼각형의 둘레와 넓이를 구해야 한다. \n",
    "# 두 점 사이의 거리는 √((x2 - x1)² + (y2 - y1)²) 공식을 사용한다. \n",
    "# 삼각형의 세 변의 길이를 각각 a, b, c라 하고, 넓이는 헤론의 공식 √(s(s - a)(s - b)(s - c))을 사용하여 계산하며, 여기서 s = (a + b + c) / 2 이다.\n",
    "\n",
    "x1 = 10\n",
    "y1 = 10\n",
    "\n",
    "x2 = 12\n",
    "y2 = 12\n",
    "\n",
    "x3 = 15\n",
    "y3 = 15\n",
    "\n",
    "# 1) 각 변의 길이 구하기\n",
    "a = ((x2 - x1) ** 2 + (y2 - y1) ** 2) ** 0.5 # 두 점 사이의 거리 계산\n",
    "b = ((x3 - x2) ** 2 + (y3 - y2) ** 2) ** 0.5 # 두 점 사이의 거리 계산\n",
    "c = ((x3 - x1) ** 2 + (y3 - y1) ** 2) ** 0.5 # 두 점 사이의 거리 계산\n",
    "\n",
    "# 2) 샴각형의 둘레 구하기\n",
    "P = a + b + c \n",
    "\n",
    "# 3) 삼각형의 넓이 구하기\n",
    "s = P / 2\n",
    "S = (s * (s - a) * (s - b) * (s - c)) ** 0.5\n",
    "\n",
    "print(\"삼각형의 둘레 : \", round(P, 2), \"삼각형의 넓이 : \", S)"
   ]
  },
  {
   "cell_type": "code",
   "execution_count": 12,
   "metadata": {},
   "outputs": [
    {
     "name": "stdout",
     "output_type": "stream",
     "text": [
      "20 10\n"
     ]
    }
   ],
   "source": [
    "# 22. 변수 A와 B의 내용을 서로 바꾸고 새로운 값 A와 B를 출력한다.\n",
    "\n",
    "A = 10\n",
    "B = 20\n",
    "\n",
    "C = A\n",
    "A = B\n",
    "B = C\n",
    "\n",
    "print(A, B)"
   ]
  },
  {
   "cell_type": "code",
   "execution_count": 17,
   "metadata": {},
   "outputs": [
    {
     "name": "stdout",
     "output_type": "stream",
     "text": [
      "A : 20 , B : 30 , C : 10\n"
     ]
    }
   ],
   "source": [
    "# 23. 주어진 변수 A, B, C의 값을 변경하여 A의 내용을 B로, B의 내용을 C로, C의 내용을 A로 이동하고 새로운 값 A, B, C를 출력한다.\n",
    "\n",
    "A = 10\n",
    "B = 20\n",
    "C = 30\n",
    "\n",
    "A2 = A\n",
    "\n",
    "A = B\n",
    "B = C\n",
    "C = A2\n",
    "\n",
    "print(\"A :\", A, \", B :\",B, \", C :\",C)"
   ]
  },
  {
   "cell_type": "code",
   "execution_count": 19,
   "metadata": {},
   "outputs": [
    {
     "name": "stdout",
     "output_type": "stream",
     "text": [
      "A : 30 , B : 10 , C : 20\n"
     ]
    }
   ],
   "source": [
    "# 24. 주어진 변수 A, B, C의 값을 변경하여 A의 내용을 C로, C의 내용을 B로, B의 내용을 A로 이동하고 새로운 값 A, B, C를 출력한다.\n",
    "\n",
    "A = 10\n",
    "B = 20\n",
    "C = 30\n",
    "\n",
    "A2 = A\n",
    "\n",
    "A = C\n",
    "C = B\n",
    "B = A2\n",
    "\n",
    "print(\"A :\", A, \", B :\",B, \", C :\",C)"
   ]
  },
  {
   "cell_type": "code",
   "execution_count": 22,
   "metadata": {},
   "outputs": [
    {
     "name": "stdout",
     "output_type": "stream",
     "text": [
      "12185\n"
     ]
    }
   ],
   "source": [
    "# 25. 주어진 x 값에 대해 함수 y = 3 * x^6 - 6 * x^2 - 7의 값을 구한다.\n",
    "\n",
    "x = 4\n",
    "y = 3 * (x ** 6) - 6 * (x ** 2) - 7\n",
    "\n",
    "print(y)"
   ]
  },
  {
   "cell_type": "code",
   "execution_count": 23,
   "metadata": {},
   "outputs": [
    {
     "name": "stdout",
     "output_type": "stream",
     "text": [
      "-1\n"
     ]
    }
   ],
   "source": [
    "# 26. 주어진 x 값에 대해 함수 y = 4 * (x - 3)^6 - 7 * (x - 3)^3 + 2의 값을 구한다.\n",
    "\n",
    "x = 4\n",
    "y = 4 * (x - 3) ** 6 - 7 * (x - 3) ** 3 + 2\n",
    "\n",
    "print(y)"
   ]
  },
  {
   "cell_type": "code",
   "execution_count": 24,
   "metadata": {},
   "outputs": [
    {
     "name": "stdout",
     "output_type": "stream",
     "text": [
      "A^2: 25\n",
      "A^4: 625\n",
      "A^8: 390625\n"
     ]
    }
   ],
   "source": [
    "# 27. 주어진 수 A에 대해, 보조 변수를 사용하고 세 번의 곱셈 연산을 통해 A^8을 계산한다. 이를 위해 순차적으로 A^2, A^4, A^8을 구하고, 찾은 모든 거듭제곱 값을 출력한다.\n",
    "\n",
    "A = 5\n",
    "\n",
    "A2 = A ** 2\n",
    "A4 = A2 ** 2\n",
    "A8 = A4 ** 2\n",
    "\n",
    "print(\"A^2:\", A2)\n",
    "print(\"A^4:\", A4)\n",
    "print(\"A^8:\", A8)"
   ]
  },
  {
   "cell_type": "code",
   "execution_count": 25,
   "metadata": {},
   "outputs": [
    {
     "name": "stdout",
     "output_type": "stream",
     "text": [
      "A^2: 4\n",
      "A^3: 16\n",
      "A^4: 256\n",
      "A^10: 65536\n",
      "A^15: 4294967296\n"
     ]
    }
   ],
   "source": [
    "# 28. 주어진 수 A에 대해, 두 개의 보조 변수를 사용하고 다섯 번의 곱셈 연산을 통해 A^15을 계산한다. 이를 위해 순차적으로 A^2, A^3, A^5, A^10, A^15을 구하고, 찾은 모든 거듭제곱 값을 출력한다.\n",
    "\n",
    "A = 2\n",
    "\n",
    "A2 = A ** 2             \n",
    "A3 = A2 * A \n",
    "A5 = A2 * A3 \n",
    "A10 = A5 ** 2 \n",
    "A15 = A10 * A5 \n",
    "\n",
    "print(\"A^2:\", A2)\n",
    "print(\"A^3:\", A3)\n",
    "print(\"A^5:\", A5)\n",
    "print(\"A^10:\", A10)\n",
    "print(\"A^15:\", A15)"
   ]
  },
  {
   "cell_type": "code",
   "execution_count": 28,
   "metadata": {},
   "outputs": [
    {
     "name": "stdout",
     "output_type": "stream",
     "text": [
      "0.52\n"
     ]
    }
   ],
   "source": [
    "# 29. 주어진 각도 α의 값을 라디안으로 변환한다(단, 0 < α < 360). 이때 변환식은 라디안 = α * (3.14 / 180)이다.\n",
    "\n",
    "a = 30\n",
    "\n",
    "radian = a * (3.14 / 180)\n",
    "\n",
    "print(round(radian, 2))"
   ]
  },
  {
   "cell_type": "code",
   "execution_count": 31,
   "metadata": {},
   "outputs": [
    {
     "name": "stdout",
     "output_type": "stream",
     "text": [
      "1719.75\n"
     ]
    }
   ],
   "source": [
    "# 30. 주어진 각도 α의 값을 도 단위로 변환한다(단, 0 < α < 2π). 이때 변환식은 도 = α * (180 / 3.14)이다.\n",
    "\n",
    "a = 30\n",
    "\n",
    "degree = a * (180 / 3.14)\n",
    "\n",
    "print(round(degree, 2))"
   ]
  },
  {
   "cell_type": "code",
   "execution_count": 33,
   "metadata": {},
   "outputs": [
    {
     "name": "stdout",
     "output_type": "stream",
     "text": [
      "-0.56\n"
     ]
    }
   ],
   "source": [
    "# 31. 주어진 온도 T를 화씨로 하여, 이를 섭씨로 변환한다. 섭씨 온도 TC와 화씨 온도 TF는 다음의 관계식으로 연결된다: TC = (TF - 32) * 5 / 9.\n",
    "\n",
    "TF = 31\n",
    "TC = (TF - 32) * 5 / 9\n",
    "\n",
    "print(round(TC, 2))"
   ]
  },
  {
   "cell_type": "code",
   "execution_count": 36,
   "metadata": {},
   "outputs": [
    {
     "name": "stdout",
     "output_type": "stream",
     "text": [
      "95.0\n"
     ]
    }
   ],
   "source": [
    "# 32. 주어진 온도 T를 섭씨로 하여, 이를 화씨로 변환한다. 섭씨 온도 TC와 화씨 온도 TF는 다음의 관계식으로 연결된다: TF = TC * (9 / 5) + 32.\n",
    "\n",
    "TC = 35\n",
    "TF = TC * (9 / 5) + 32\n",
    "\n",
    "print(round(TF, 2))"
   ]
  },
  {
   "cell_type": "code",
   "execution_count": 37,
   "metadata": {},
   "outputs": [
    {
     "name": "stdout",
     "output_type": "stream",
     "text": [
      "1 kg의 가격: 100.0 루블\n",
      "3 kg의 가격: 300.0 루블\n"
     ]
    }
   ],
   "source": [
    "# 33. X kg의 사탕 가격이 A 루블일 때, 1 kg과 Y kg의 같은 사탕 가격은 다음과 같다. \n",
    "# 1 kg의 가격은 A / X 루블이고, Y kg의 가격은 (A / X) * Y 루블이다.\n",
    "\n",
    "X = 2\n",
    "A = 200\n",
    "Y = 3\n",
    "\n",
    "price_kg = A / X\n",
    "\n",
    "price_Y_kg = price_kg * Y\n",
    "\n",
    "print(\"1 kg의 가격:\", round(price_kg, 2), \"루블\")\n",
    "print(Y, \"kg의 가격:\", round(price_Y_kg, 2), \"루블\")"
   ]
  },
  {
   "cell_type": "code",
   "execution_count": 40,
   "metadata": {},
   "outputs": [
    {
     "name": "stdout",
     "output_type": "stream",
     "text": [
      "1 kg의 가격: 100.0 루블\n",
      "3 kg의 가격: 166.67 루블\n",
      "초콜릿이 사탕보다 0.6 배 비싸다.\n"
     ]
    }
   ],
   "source": [
    "# 34. X kg의 초콜릿 사탕 가격이 A 루블이고, Y kg의 사탕 가격이 B 루블일 때, 다음을 계산한다.\n",
    "# 1 kg의 초콜릿 사탕 가격은 A / X 루블이고, 1 kg의 사탕 가격은 B / Y 루블이다.\n",
    "# 초콜릿 사탕이 사탕보다 몇 배 비싼지는 (A / X) / (B / Y)로 계산할 수 있다.\n",
    "\n",
    "X = 2\n",
    "A = 200\n",
    "\n",
    "Y = 3\n",
    "B = 500\n",
    "\n",
    "price_chocolate_kg = A / X\n",
    "price_Y_kg = B / Y\n",
    "\n",
    "price_ratio = price_chocolate_kg / price_Y_kg\n",
    "\n",
    "print(\"1 kg의 가격:\", round(price_chocolate_kg, 2), \"루블\")\n",
    "print(Y, \"kg의 가격:\", round(price_Y_kg, 2), \"루블\")\n",
    "print(\"초콜릿이 사탕보다\", round(price_ratio, 2), \"배 비싸다.\")"
   ]
  },
  {
   "cell_type": "code",
   "execution_count": 41,
   "metadata": {},
   "outputs": [
    {
     "name": "stdout",
     "output_type": "stream",
     "text": [
      "보트가 이동한 총 거리: 27 km\n"
     ]
    }
   ],
   "source": [
    "# 35. 보트의 정지 수역에서의 속도는 V km/h이고, 강의 흐름 속도는 U km/h (U < V)이다. \n",
    "# 보트가 호수에서 이동하는 시간은 T1 시간이고, 강에서 (흐름을 거슬러) 이동하는 시간은 T2 시간이다. \n",
    "# 보트가 이동한 거리 S를 구하라 (거리 = 시간 * 속도). 흐름을 거슬러 이동할 때 보트의 속도는 흐름 속도만큼 감소한다.\n",
    "\n",
    "V = 10  # 보트 속도\n",
    "U = 3   # 강의 스름 속도\n",
    "\n",
    "T1 = 2  # 보트가 호수에서 이동하는 시간\n",
    "T2 = 1  # 강에서 이동하는 시간\n",
    "\n",
    "S1 = V * T1     # 호수에서 이동하는 시간\n",
    "S2 = (V - U) * T2   # 강에서 이동하는 시간\n",
    "\n",
    "S = S1 + S2     # 총 이동 거리\n",
    "\n",
    "print(\"보트가 이동한 총 거리:\", S, \"km\")"
   ]
  },
  {
   "cell_type": "code",
   "execution_count": 42,
   "metadata": {},
   "outputs": [
    {
     "name": "stdout",
     "output_type": "stream",
     "text": [
      "T 시간 후 두 자동차 사이의 거리: 240 km\n"
     ]
    }
   ],
   "source": [
    "# 36. 첫 번째 자동차의 속도는 V1 km/h, 두 번째 자동차의 속도는 V2 km/h이며, 두 자동차 사이의 초기 거리는 S km이다. \n",
    "# 두 자동차가 서로 멀어질 때 T 시간 후의 거리를 구하라. 이 거리 계산식은 초기 거리와 자동차들이 이동한 총 거리를 더한 것이다. \n",
    "# 총 거리는 시간과 두 자동차의 합산 속도를 곱한 값이다.\n",
    "\n",
    "V1 = 60    # 첫 번째 자동차의 속도\n",
    "V2 = 80    # 두 번째 자동차의 속도\n",
    "S = 100    # 두 자동차 사이의 초기 거리 \n",
    "T = 1      # 두 자동차가 이동한 시간 \n",
    "\n",
    "total_distance = T * (V1 + V2)         # 총 이동 거리\n",
    "final_distance = S + total_distance    # 최종 거리\n",
    "\n",
    "print(\"T 시간 후 두 자동차 사이의 거리:\", final_distance, \"km\")"
   ]
  },
  {
   "cell_type": "code",
   "execution_count": 43,
   "metadata": {},
   "outputs": [
    {
     "name": "stdout",
     "output_type": "stream",
     "text": [
      "T 시간 후 두 자동차 사이의 거리: 40 km\n"
     ]
    }
   ],
   "source": [
    "# 37. 첫 번째 자동차의 속도는 V1 km/h, 두 번째 자동차의 속도는 V2 km/h이며, 두 자동차 사이의 초기 거리는 S km이다. \n",
    "# 두 자동차가 처음에 서로 마주 보며 이동할 때 T 시간 후의 거리를 구하라. \n",
    "# 이 거리 계산식은 초기 거리의 절대값에서 자동차들이 이동한 총 거리를 뺀 것이다. \n",
    "# 총 거리는 시간과 두 자동차의 합산 속도를 곱한 값이다.\n",
    "\n",
    "V1 = 60    # 첫 번째 자동차의 속도\n",
    "V2 = 80    # 두 번째 자동차의 속도\n",
    "S = 100    # 두 자동차 사이의 초기 거리 \n",
    "T = 1      # 두 자동차가 이동한 시간 \n",
    "\n",
    "total_distance = T * (V1 + V2)               # 총 이동 거리\n",
    "final_distance = abs(S - total_distance)     # 최종 거리 (절댓값)\n",
    "\n",
    "print(\"T 시간 후 두 자동차 사이의 거리:\", final_distance, \"km\")"
   ]
  },
  {
   "cell_type": "code",
   "execution_count": 44,
   "metadata": {},
   "outputs": [
    {
     "name": "stdout",
     "output_type": "stream",
     "text": [
      "-2.0\n"
     ]
    }
   ],
   "source": [
    "# 38. 계수가 A와 B로 주어진 일차 방정식 A * x + B = 0을 풀어라 (단, A ≠ 0).\n",
    "\n",
    "A = 10\n",
    "B = 20\n",
    "\n",
    "x = -B / A\n",
    "print(x)"
   ]
  },
  {
   "cell_type": "code",
   "execution_count": 47,
   "metadata": {},
   "outputs": [
    {
     "name": "stdout",
     "output_type": "stream",
     "text": [
      "작은 근: 0.5\n",
      "큰 근: 1.0\n"
     ]
    }
   ],
   "source": [
    "# 39. 계수가 A, B, C로 주어진 이차 방정식 A * x^2 + B * x + C = 0의 근을 구하라 (단, A ≠ 0이며, 방정식의 판별식이 양수임이 알려져 있다). \n",
    "# 찾은 근 중에서 먼저 작은 근을, 그다음 큰 근을 출력하라. \n",
    "# 이차 방정식의 근은 다음 공식에 따라 구한다: x1 = (−B + √D) / (2 * A), x2 = (−B − √D) / (2 * A), 여기서 D는 판별식으로, D = B^2 − 4 * A * C이다.\n",
    "\n",
    "import math\n",
    "\n",
    "A = 2\n",
    "B = -3\n",
    "C = 1\n",
    "\n",
    "D = (B ** 2) - 4 * A * C\n",
    "\n",
    "# 제곱근\n",
    "x1 = (-B + math.sqrt(D)) / (2 * A)\n",
    "x2 = (-B - math.sqrt(D)) / (2 * A)\n",
    "\n",
    "smallest_root = min(x1, x2)     # 작은 근\n",
    "largest_root = max(x1, x2)      # 큰 근\n",
    "\n",
    "print(\"작은 근:\", smallest_root)\n",
    "print(\"큰 근:\", largest_root)"
   ]
  },
  {
   "cell_type": "code",
   "execution_count": 49,
   "metadata": {},
   "outputs": [
    {
     "name": "stdout",
     "output_type": "stream",
     "text": [
      "x의 값: 1.5\n",
      "y의 값: -0.0\n"
     ]
    }
   ],
   "source": [
    "# 40. 주어진 계수 A1, B1, C1, A2, B2, C2로 이루어진 선형 방정식 시스템의 해를 구하라. \n",
    "# 이 시스템은 유일한 해를 가진다. 다음 공식을 사용하라: x = (C1 * B2 − C2 * B1) / D, y = (A1 * C2 − A2 * C1) / D, 여기서 D = A1 * B2 − A2 * B1이다.\n",
    "\n",
    "A1 = 2\n",
    "A2 = 4\n",
    "\n",
    "B1 = 4\n",
    "B2 = 7\n",
    "\n",
    "C1 = 3\n",
    "C2 = 6\n",
    "\n",
    "D = A1 * B2 - A2 * B1\n",
    "\n",
    "x = (C1 * B2 - C2 * B1) / D\n",
    "y = (A1 * C2 - A2 * C1) / D\n",
    "\n",
    "print(\"x의 값:\", x)\n",
    "print(\"y의 값:\", y)"
   ]
  }
 ],
 "metadata": {
  "kernelspec": {
   "display_name": "Python 3",
   "language": "python",
   "name": "python3"
  },
  "language_info": {
   "codemirror_mode": {
    "name": "ipython",
    "version": 3
   },
   "file_extension": ".py",
   "mimetype": "text/x-python",
   "name": "python",
   "nbconvert_exporter": "python",
   "pygments_lexer": "ipython3",
   "version": "3.11.9"
  }
 },
 "nbformat": 4,
 "nbformat_minor": 2
}
