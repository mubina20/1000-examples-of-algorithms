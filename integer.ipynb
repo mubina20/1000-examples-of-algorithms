{
 "cells": [
  {
   "cell_type": "code",
   "execution_count": 3,
   "metadata": {},
   "outputs": [
    {
     "name": "stdout",
     "output_type": "stream",
     "text": [
      "2\n"
     ]
    }
   ],
   "source": [
    "# 1. 주어진 거리 L이 센티미터 단위일 때, 정수 나눗셈을 사용하여 해당 거리에서 몇 미터가 나오는지 구하라 (1미터 = 100cm).\n",
    "\n",
    "L = 200\n",
    "\n",
    "print(L // 100)"
   ]
  },
  {
   "cell_type": "code",
   "execution_count": 7,
   "metadata": {},
   "outputs": [
    {
     "name": "stdout",
     "output_type": "stream",
     "text": [
      "3\n"
     ]
    }
   ],
   "source": [
    "# 2. 주어진 질량 M이 킬로그램 단위일 때, 정수 나눗셈을 사용하여 해당 질량에서 몇 톤이 나오는지 구하라 (1톤 = 1000kg).\n",
    "\n",
    "M = 3000\n",
    "\n",
    "print(M // 1000)"
   ]
  },
  {
   "cell_type": "code",
   "execution_count": 8,
   "metadata": {},
   "outputs": [
    {
     "name": "stdout",
     "output_type": "stream",
     "text": [
      "4024 바이트는 3 킬로바이트이다.\n"
     ]
    }
   ],
   "source": [
    "# 3. 주어진 파일 크기가 바이트 단위일 때, 정수 나눗셈을 사용하여 해당 파일이 차지하는 전체 킬로바이트 수를 구하라 (1킬로바이트 = 1024바이트).\n",
    "\n",
    "byte = 4024\n",
    "k_byte = byte // 1024\n",
    "\n",
    "print(byte, \"바이트는\", k_byte, '킬로바이트이다.')"
   ]
  },
  {
   "cell_type": "code",
   "execution_count": 10,
   "metadata": {},
   "outputs": [
    {
     "name": "stdout",
     "output_type": "stream",
     "text": [
      "2\n"
     ]
    }
   ],
   "source": [
    "# 4. 주어진 양의 정수 (A와 B)가 있을 때, 길이가 A인 구간에 길이가 B인 구간을 겹치지 않도록 최대한 배치한다. 정수 나눗셈을 사용하여, A 구간에 배치된 B 구간의 개수를 구하라.\n",
    "\n",
    "A = 20\n",
    "B = 10\n",
    "\n",
    "print(A // B)"
   ]
  },
  {
   "cell_type": "code",
   "execution_count": 12,
   "metadata": {},
   "outputs": [
    {
     "name": "stdout",
     "output_type": "stream",
     "text": [
      "남은 부분의 길이: 4\n"
     ]
    }
   ],
   "source": [
    "# 5. 주어진 양의 정수 A와 B (A > B)가 있을 때, 길이가 A인 구간에 길이가 B인 구간을 겹치지 않도록 최대한 배치했을 때 남은 부분의 길이를 구하라. 이를 위해 정수 나눗셈의 나머지 연산을 사용하라.\n",
    "\n",
    "A = 24\n",
    "B = 10\n",
    "\n",
    "print(\"남은 부분의 길이:\", A % B)"
   ]
  },
  {
   "cell_type": "code",
   "execution_count": 29,
   "metadata": {},
   "outputs": [
    {
     "name": "stdout",
     "output_type": "stream",
     "text": [
      "십의 자리: 1\n",
      "일의 자리: 2\n"
     ]
    }
   ],
   "source": [
    "# 6. 주어진 두 자리 수에서 먼저 왼쪽 숫자(십의 자리)를 출력하고, 그 다음에 오른쪽 숫자(일의 자리)를 출력하라. 십의 자리를 찾기 위해서는 정수 나눗셈을 사용하고, 일의 자리를 찾기 위해서는 나눗셈의 나머지 연산을 사용하라.\n",
    "\n",
    "A = 12\n",
    "\n",
    "A_tens = A // 10\n",
    "A_units = A % 10\n",
    "\n",
    "print(\"십의 자리:\", A_tens)\n",
    "print(\"일의 자리:\", A_units)"
   ]
  },
  {
   "cell_type": "code",
   "execution_count": 18,
   "metadata": {},
   "outputs": [
    {
     "name": "stdout",
     "output_type": "stream",
     "text": [
      "A의 각 자리 숫자의 합: 3\n",
      "A의 각 자리 숫자의 곱: 0\n",
      "B의 각 자리 숫자의 합: 2\n",
      "B의 각 자리 숫자의 곱: 0\n"
     ]
    }
   ],
   "source": [
    "# 7. 주어진 두 자리 수의 각 자리 숫자의 합과 곱을 구하라.\n",
    "\n",
    "A = 30\n",
    "B = 20\n",
    "\n",
    "\n",
    "A_tens = A // 10  # 10의 자리\n",
    "A_units = A % 10   # 1의 자리\n",
    "\n",
    "B_tens = B // 10  # 10의 자리\n",
    "B_units = B % 10   # 1의 자리\n",
    "\n",
    "# 각 자리 숫자의 합\n",
    "sum_A = A_tens + A_units\n",
    "sum_B = B_tens + B_units\n",
    "\n",
    "# 각 자리 숫자의 곱\n",
    "product_A = A_tens * A_units\n",
    "product_B = B_tens * B_units\n",
    "\n",
    "print(\"A의 각 자리 숫자의 합:\", sum_A)\n",
    "print(\"A의 각 자리 숫자의 곱:\", product_A)\n",
    "\n",
    "print(\"B의 각 자리 숫자의 합:\", sum_B)\n",
    "print(\"B의 각 자리 숫자의 곱:\", product_B)"
   ]
  },
  {
   "cell_type": "code",
   "execution_count": 27,
   "metadata": {},
   "outputs": [
    {
     "name": "stdout",
     "output_type": "stream",
     "text": [
      "A의 새로운 수: 78\n",
      "B의 새로운 수: 63\n"
     ]
    }
   ],
   "source": [
    "# 8. 주어진 두 자리 수의 자리 숫자를 바꾼 새로운 수를 출력하라.\n",
    "\n",
    "A = 87\n",
    "B = 36\n",
    "\n",
    "A_tens = A // 10\n",
    "A_units = A % 10\n",
    "\n",
    "B_tens = B // 10\n",
    "B_units = B % 10\n",
    "\n",
    "new_A = A_units * 10 + A_tens\n",
    "new_B = B_units * 10 + B_tens\n",
    "\n",
    "print(\"A의 새로운 수:\", new_A)\n",
    "print(\"B의 새로운 수:\", new_B)"
   ]
  },
  {
   "cell_type": "code",
   "execution_count": 32,
   "metadata": {},
   "outputs": [
    {
     "name": "stdout",
     "output_type": "stream",
     "text": [
      "첫 번째 수: 2\n"
     ]
    }
   ],
   "source": [
    "# 9. 주어진 세 자리 수의 첫 번째 자리 숫자(백의 자리)를 출력하라. 이를 위해 정수 나눗셈 연산을 사용하라.\n",
    "\n",
    "A = 250\n",
    "\n",
    "hundreds_place = A // 100\n",
    "\n",
    "print(\"첫 번째 수:\", hundreds_place)"
   ]
  },
  {
   "cell_type": "code",
   "execution_count": 39,
   "metadata": {},
   "outputs": [
    {
     "name": "stdout",
     "output_type": "stream",
     "text": [
      "마지막 자리 숫자: 0\n",
      "중간 자리 숫자: 8\n"
     ]
    }
   ],
   "source": [
    "# 10. 주어진 세 자리 수의 마지막 자리 숫자(일의 자리)를 먼저 출력하고, 그 다음에 중간 자리 숫자(십의 자리)를 출력하라.\n",
    "\n",
    "A = 380\n",
    "\n",
    "ones_place = A % 10\n",
    "tens_place = (A // 10) % 10\n",
    "\n",
    "print(\"마지막 자리 숫자:\", ones_place)\n",
    "print(\"중간 자리 숫자:\", tens_place)"
   ]
  },
  {
   "cell_type": "code",
   "execution_count": 55,
   "metadata": {},
   "outputs": [
    {
     "name": "stdout",
     "output_type": "stream",
     "text": [
      "각 자리 수의 합: 9\n",
      "각 자리 수의 곱: 24\n"
     ]
    }
   ],
   "source": [
    "# 11. 주어진 세 자리 수의 각 자리 숫자의 합과 곱을 구하라.\n",
    "\n",
    "num = 234\n",
    "\n",
    "# 각 자리 숫자 구하기\n",
    "ones_place = num // 100\n",
    "tens_place = (num // 10) % 10\n",
    "hundreds_place = num % 10\n",
    "\n",
    "# 합과 곱 구하기\n",
    "sum_A = ones_place + tens_place + hundreds_place\n",
    "product_A = ones_place * tens_place * hundreds_place\n",
    "\n",
    "print(\"각 자리 수의 합:\", sum_A)\n",
    "print(\"각 자리 수의 곱:\", product_A)"
   ]
  },
  {
   "cell_type": "code",
   "execution_count": 58,
   "metadata": {},
   "outputs": [
    {
     "name": "stdout",
     "output_type": "stream",
     "text": [
      "3 2 1\n"
     ]
    }
   ],
   "source": [
    "# 12. 주어진 세 자리 수를 오른쪽에서 왼쪽으로 읽었을 때의 수를 출력하라.\n",
    "\n",
    "num = 123\n",
    "\n",
    "hundreds_place = num // 100\n",
    "tens_place = (num // 10) % 10\n",
    "ones_place = num % 10\n",
    "\n",
    "print(ones_place,tens_place,hundreds_place)"
   ]
  },
  {
   "cell_type": "code",
   "execution_count": 64,
   "metadata": {},
   "outputs": [
    {
     "name": "stdout",
     "output_type": "stream",
     "text": [
      "2 3 1\n"
     ]
    }
   ],
   "source": [
    "# 13. 주어진 세 자리 수에서 가장 왼쪽 자리 숫자를 지우고, 그 숫자를 오른쪽에 붙였을 때의 수를 출력하라.\n",
    "\n",
    "num = 123\n",
    "\n",
    "hundreds_place = num // 100\n",
    "tens_place = (num // 10) % 10\n",
    "ones_place = num % 10\n",
    "\n",
    "print(tens_place, ones_place, hundreds_place)"
   ]
  },
  {
   "cell_type": "code",
   "execution_count": 67,
   "metadata": {},
   "outputs": [
    {
     "name": "stdout",
     "output_type": "stream",
     "text": [
      "3 1 2\n"
     ]
    }
   ],
   "source": [
    "# 14. 주어진 세 자리 수에서 가장 오른쪽 자리 숫자를 지우고, 그 숫자를 왼쪽에 붙였을 때의 수를 출력하라.\n",
    "\n",
    "num = 123\n",
    "\n",
    "hundreds_place = num // 100\n",
    "tens_place = (num // 10) % 10\n",
    "ones_place = num % 10\n",
    "\n",
    "print(ones_place, hundreds_place, tens_place)"
   ]
  },
  {
   "cell_type": "code",
   "execution_count": 68,
   "metadata": {},
   "outputs": [
    {
     "name": "stdout",
     "output_type": "stream",
     "text": [
      "2 1 3\n"
     ]
    }
   ],
   "source": [
    "# 15. 주어진 세 자리 수에서 백의 자리 숫자와 십의 자리 숫자를 교환했을 때의 수를 출력하라 (예: 123은 213으로 변환된다).\n",
    "\n",
    "num = 123\n",
    "\n",
    "hundreds_place = num // 100\n",
    "tens_place = (num // 10) % 10\n",
    "ones_place = num % 10\n",
    "\n",
    "print(tens_place, hundreds_place, ones_place)"
   ]
  },
  {
   "cell_type": "code",
   "execution_count": 73,
   "metadata": {},
   "outputs": [
    {
     "name": "stdout",
     "output_type": "stream",
     "text": [
      "1 3 2\n"
     ]
    }
   ],
   "source": [
    "# 16. 주어진 세 자리 수에서 십의 자리 숫자와 일의 자리 숫자를 교환했을 때의 수를 출력하라 (예: 123은 132로 변환된다).\n",
    "\n",
    "num = 123\n",
    "\n",
    "hundreds_place = num // 100\n",
    "tens_place = (num // 10) % 10\n",
    "ones_place = num % 10\n",
    "\n",
    "print(hundreds_place, ones_place, tens_place)"
   ]
  },
  {
   "cell_type": "code",
   "execution_count": 77,
   "metadata": {},
   "outputs": [
    {
     "name": "stdout",
     "output_type": "stream",
     "text": [
      "2\n"
     ]
    }
   ],
   "source": [
    "# 17. 주어진 정수(1000보다 큰 수)에서 백의 자리 숫자를 찾기 위해 정수 나눗셈과 나머지 연산을 각각 한 번씩 사용하라.\n",
    "\n",
    "num = 1200\n",
    "\n",
    "hundreds_place = (num // 100) % 10\n",
    "\n",
    "print(hundreds_place)"
   ]
  },
  {
   "cell_type": "code",
   "execution_count": 78,
   "metadata": {},
   "outputs": [
    {
     "name": "stdout",
     "output_type": "stream",
     "text": [
      "1\n"
     ]
    }
   ],
   "source": [
    "# 18. 주어진 정수(1000보다 큰 수)에서 천의 자리 숫자를 찾기 위해 정수 나눗셈과 나머지 연산을 각각 한 번씩 사용하라.\n",
    "\n",
    "num = 1200\n",
    "\n",
    "# thousands_place = num // 1000     # 이런 식으로 풀어도 답이 나옴\n",
    "thousands_place = (num // 1000) % 10\n",
    "\n",
    "print(hundreds_place)"
   ]
  },
  {
   "cell_type": "code",
   "execution_count": 79,
   "metadata": {},
   "outputs": [
    {
     "name": "stdout",
     "output_type": "stream",
     "text": [
      "지난 전체 분의 수: 63\n"
     ]
    }
   ],
   "source": [
    "# 19. 하루의 시작부터 N초가 경과했을 때, 지난 전체 분의 수를 구하라 (N은 정수). \n",
    "\n",
    "N = 3800\n",
    "\n",
    "minutes = N // 60\n",
    "\n",
    "print(\"지난 전체 분의 수:\", minutes)"
   ]
  },
  {
   "cell_type": "code",
   "execution_count": 81,
   "metadata": {},
   "outputs": [
    {
     "name": "stdout",
     "output_type": "stream",
     "text": [
      "지난 전체 시간의 수: 1\n"
     ]
    }
   ],
   "source": [
    "# 20. 하루의 시작부터 N초가 경과했을 때, 지난 전체 시간의 수를 구하라 (N은 정수).\n",
    "\n",
    "N = 3800\n",
    "\n",
    "hour = N // 3600\n",
    "\n",
    "print(\"지난 전체 시간의 수:\", hour)"
   ]
  },
  {
   "cell_type": "code",
   "execution_count": 92,
   "metadata": {},
   "outputs": [
    {
     "name": "stdout",
     "output_type": "stream",
     "text": [
      "마지막 분 이후 지난 초의 수: 20\n"
     ]
    }
   ],
   "source": [
    "# 21. 하루의 시작부터 N초가 경과했을 때, 마지막 분 이후 지난 초의 수를 구하라 (N은 정수).\n",
    "\n",
    "N = 5000\n",
    "\n",
    "seconds = N % 60    # N을 분(60)으로 나눈 나머지가 \"마지막 분 이후 지난 초의 수\"이다\n",
    "\n",
    "print(\"마지막 분 이후 지난 초의 수:\", seconds)"
   ]
  },
  {
   "cell_type": "code",
   "execution_count": 83,
   "metadata": {},
   "outputs": [],
   "source": [
    "# 22. 하루의 시작부터 N초가 경과했을 때, 마지막 시간 이후 지난 초의 수를 구하라 (N은 정수).\n",
    "\n",
    "N = 5000\n",
    "\n",
    "seconds = N % 3600\n",
    "\n",
    "print(\"마지막 시간 이후 지난 초의 수:\", seconds)\n"
   ]
  },
  {
   "cell_type": "code",
   "execution_count": 93,
   "metadata": {},
   "outputs": [
    {
     "name": "stdout",
     "output_type": "stream",
     "text": [
      "마지막 시간 이후 지난 전체 분의 수: 23\n"
     ]
    }
   ],
   "source": [
    "# 23. 하루의 시작부터 N초가 경과했을 때, 마지막 시간 이후 지난 전체 분의 수를 구하라 (N은 정수).\n",
    "\n",
    "N = 5000\n",
    "\n",
    "last_hour = N % 3600\n",
    "seconds  = last_hour // 60\n",
    "\n",
    "print(\"마지막 시간 이후 지난 전체 분의 수:\", seconds)"
   ]
  },
  {
   "cell_type": "code",
   "execution_count": 94,
   "metadata": {},
   "outputs": [
    {
     "name": "stdout",
     "output_type": "stream",
     "text": [
      "K번째 날의 요일 번호: 3\n"
     ]
    }
   ],
   "source": [
    "# 24. 주가 다음과 같이 번호 매겨져 있습니다: 0 - 일요일, 1 - 월요일, 2 - 화요일, ..., 6 - 토요일. \n",
    "# 정수 K가 주어졌을 때(범위: 1-365), K번째 날이 주의 몇 번째 날인지 결정하시오. 이 해의 1월 1일은 월요일입니다.\n",
    "\n",
    "K = 290  \n",
    "\n",
    "weekday = (K - 1 + 1) % 7\n",
    "\n",
    "print(\"K번째 날의 요일 번호:\", weekday)\n"
   ]
  },
  {
   "cell_type": "code",
   "execution_count": 1,
   "metadata": {},
   "outputs": [
    {
     "name": "stdout",
     "output_type": "stream",
     "text": [
      "K번째 날의 요일 번호: 5\n"
     ]
    }
   ],
   "source": [
    "# 25. 주가 다음과 같이 번호 매겨져 있습니다: 0 - 일요일, 1 - 월요일, 2 - 화요일, ..., 6 - 토요일. \n",
    "# 정수 K가 주어졌을 때(범위: 1-365), K번째 날이 주의 몇 번째 날인지 결정하시오. 이 해의 1월 1일은 목요일입니다.\n",
    "\n",
    "K = 100  \n",
    "\n",
    "weekday = (K - 1 + 4) % 7\n",
    "\n",
    "print(\"K번째 날의 요일 번호:\", weekday)"
   ]
  },
  {
   "cell_type": "code",
   "execution_count": 3,
   "metadata": {},
   "outputs": [
    {
     "name": "stdout",
     "output_type": "stream",
     "text": [
      "K번째 날의 요일 번호: 5\n"
     ]
    }
   ],
   "source": [
    "# 26. 요일이 다음과 같이 번호 매겨져 있습니다: 1 - 월요일, 2 - 화요일, ..., 6 - 토요일, 7 - 일요일. \n",
    "# 정수 K가 주어졌을 때(범위: 1-365), K번째 날이 주의 몇 번째 날인지 결정하시오. 이 해의 1월 1일은 화요일입니다.\n",
    "\n",
    "K = 304\n",
    "\n",
    "weekday = ((K - 1 + 2) % 7) + 1  \n",
    "\n",
    "print(\"K번째 날의 요일 번호:\", weekday)"
   ]
  },
  {
   "cell_type": "code",
   "execution_count": 4,
   "metadata": {},
   "outputs": [
    {
     "name": "stdout",
     "output_type": "stream",
     "text": [
      "K번째 날의 요일 번호: 5\n"
     ]
    }
   ],
   "source": [
    "# 27. 요일이 다음과 같이 번호 매겨져 있습니다: 1 - 월요일, 2 - 화요일, ..., 6 - 토요일, 7 - 일요일. \n",
    "# 정수 K가 주어졌을 때(범위: 1-365), K번째 날이 주의 몇 번째 날인지 결정하시오. 이 해의 1월 1일은 토요일입니다.\n",
    "\n",
    "K = 286\n",
    "\n",
    "weekday = ((K - 1 + 6) % 7) + 1  \n",
    "\n",
    "print(\"K번째 날의 요일 번호:\", weekday)"
   ]
  },
  {
   "cell_type": "code",
   "execution_count": 90,
   "metadata": {},
   "outputs": [],
   "source": [
    "# 28. 요일이 다음과 같이 번호 매겨져 있습니다: 1 - 월요일, 2 - 화요일, ..., 6 - 토요일, 7 - 일요일. \n",
    "# 정수 K(1-365 범위)와 정수 N(1-7 범위)이 주어졌을 때, K번째 날이 주의 몇 번째 날인지 결정하시오. 이 해의 1월 1일은 N번째 요일입니다.\n",
    "\n",
    "K = 100  \n",
    "N = 6    \n",
    "\n",
    "weekday = ((K - 1 + (N - 1)) % 7) + 1\n",
    "\n",
    "print(\"K번째 날의 요일 번호:\", weekday)"
   ]
  },
  {
   "cell_type": "code",
   "execution_count": 91,
   "metadata": {},
   "outputs": [],
   "source": [
    "# 29. 정수 A, B, C가 주어집니다. 크기가 A × B인 직사각형에 한 변의 길이가 C인 정사각형을 가능한 한 많이 배치했다(겹치지 않도록). \n",
    "# 직사각형에 배치된 정사각형의 개수와 직사각형의 남은 면적을 구하시오.\n",
    "\n",
    "A = 5  \n",
    "B = 10\n",
    "C = 2\n",
    "\n",
    "num_squares = (A // C) * (B // C)\n",
    "\n",
    "remaining_area = (A * B) - (num_squares * C * C)\n",
    "\n",
    "print(\"직사각형에 배치된 정사각형의 개수:\", num_squares)\n",
    "print(\"직사각형의 남은 면적:\", remaining_area)"
   ]
  },
  {
   "cell_type": "code",
   "execution_count": null,
   "metadata": {},
   "outputs": [],
   "source": [
    "# 30. 어떤 해의 번호(양의 정수)가 주어졌을 때, 그 해가 속하는 세기의 번호를 구하시오. 예를 들어, 20세기는 1901년부터 시작되었습니다.\n",
    "\n",
    "year = 2023\n",
    "\n",
    "century = (year - 1) // 100 + 1\n",
    "\n",
    "print(\"해가 속하는 세기 번호:\", century)"
   ]
  }
 ],
 "metadata": {
  "kernelspec": {
   "display_name": "Python 3",
   "language": "python",
   "name": "python3"
  },
  "language_info": {
   "codemirror_mode": {
    "name": "ipython",
    "version": 3
   },
   "file_extension": ".py",
   "mimetype": "text/x-python",
   "name": "python",
   "nbconvert_exporter": "python",
   "pygments_lexer": "ipython3",
   "version": "3.11.9"
  }
 },
 "nbformat": 4,
 "nbformat_minor": 2
}
